{
  "nbformat": 4,
  "nbformat_minor": 0,
  "metadata": {
    "colab": {
      "provenance": [],
      "include_colab_link": true
    },
    "kernelspec": {
      "name": "python3",
      "display_name": "Python 3"
    },
    "language_info": {
      "name": "python"
    }
  },
  "cells": [
    {
      "cell_type": "markdown",
      "metadata": {
        "id": "view-in-github",
        "colab_type": "text"
      },
      "source": [
        "<a href=\"https://colab.research.google.com/github/LaxminarayananV/intensity_analysis/blob/main/intensity_test.ipynb\" target=\"_parent\"><img src=\"https://colab.research.google.com/assets/colab-badge.svg\" alt=\"Open In Colab\"/></a>"
      ]
    },
    {
      "cell_type": "code",
      "execution_count": 3,
      "metadata": {
        "id": "3HkiNA9dfFeK"
      },
      "outputs": [],
      "source": [
        "import pandas as pd\n",
        "from sklearn.model_selection import train_test_split, GridSearchCV\n",
        "from sklearn.metrics import accuracy_score, classification_report\n",
        "from sklearn.feature_extraction.text import TfidfVectorizer\n",
        "from sklearn.svm import SVC\n",
        "from sklearn.ensemble import RandomForestClassifier\n",
        "from imblearn.pipeline import Pipeline as ImbPipeline\n",
        "from imblearn.over_sampling import SMOTE\n",
        "\n",
        "# Load data from CSV files\n",
        "sadness_data = pd.read_csv(\"sadness.csv\")\n",
        "angriness_data = pd.read_csv(\"angriness.csv\")\n",
        "happiness_data = pd.read_csv(\"happiness.csv\")\n",
        "\n",
        "# Merge datasets and preprocess\n",
        "all_data = pd.concat([sadness_data, angriness_data, happiness_data], ignore_index=True)\n",
        "all_data.drop_duplicates(inplace=True)\n",
        "all_data.dropna(inplace=True)\n",
        "all_data['content'] = all_data['content'].apply(lambda x: x.lower())\n"
      ]
    },
    {
      "cell_type": "code",
      "source": [
        "# Train-test split\n",
        "X_train, X_test, y_train, y_test = train_test_split(all_data['content'], all_data['intensity'], test_size=0.2, random_state=42)\n"
      ],
      "metadata": {
        "id": "QrOCJgc0fKjz"
      },
      "execution_count": 4,
      "outputs": []
    },
    {
      "cell_type": "code",
      "source": [
        "# Define pipelines for SVM and Random Forest classifiers with SMOTE oversampling\n",
        "svm_pipeline = ImbPipeline([\n",
        "    ('tfidf', TfidfVectorizer(max_features=5000)),\n",
        "    ('smote', SMOTE(random_state=42)),\n",
        "    ('svm', SVC(probability=True, random_state=42))\n",
        "])\n",
        "\n",
        "rf_pipeline = ImbPipeline([\n",
        "    ('tfidf', TfidfVectorizer(max_features=5000)),\n",
        "    ('smote', SMOTE(random_state=42)),\n",
        "    ('rf', RandomForestClassifier(random_state=42))\n",
        "])\n"
      ],
      "metadata": {
        "id": "9te8KXePfMnL"
      },
      "execution_count": 5,
      "outputs": []
    },
    {
      "cell_type": "code",
      "source": [
        "# Define parameter grids for hyperparameter tuning\n",
        "param_grid_svm = {\n",
        "    'svm__C': [0.1, 1, 10, 100],\n",
        "    'svm__kernel': ['linear', 'rbf'],\n",
        "    'svm__gamma': ['scale', 'auto']\n",
        "}\n",
        "\n",
        "param_grid_rf = {\n",
        "    'rf__n_estimators': [100, 200, 300],\n",
        "    'rf__max_depth': [10, 20, 30],\n",
        "    'rf__min_samples_split': [2, 5, 10],\n",
        "    'rf__min_samples_leaf': [1, 2, 4]\n",
        "}\n"
      ],
      "metadata": {
        "id": "I6QCko4qfOgV"
      },
      "execution_count": 6,
      "outputs": []
    },
    {
      "cell_type": "code",
      "source": [
        "# Perform GridSearchCV with the pipelines and parameter grids\n",
        "grid_search_svm = GridSearchCV(svm_pipeline, param_grid_svm, cv=5, verbose=1, n_jobs=-1)\n",
        "grid_search_svm.fit(X_train, y_train)\n",
        "\n",
        "grid_search_rf = GridSearchCV(rf_pipeline, param_grid_rf, cv=5, verbose=1, n_jobs=-1)\n",
        "grid_search_rf.fit(X_train, y_train)\n"
      ],
      "metadata": {
        "id": "QjJ33FlnfQ1e"
      },
      "execution_count": null,
      "outputs": []
    },
    {
      "cell_type": "code",
      "source": [
        "# Get best models from the grid search\n",
        "best_model_svm = grid_search_svm.best_estimator_\n",
        "best_model_rf = grid_search_rf.best_estimator_\n"
      ],
      "metadata": {
        "id": "fQDDliwxfUWf"
      },
      "execution_count": null,
      "outputs": []
    },
    {
      "cell_type": "code",
      "source": [
        "# Evaluate best models\n",
        "y_pred_svm = best_model_svm.predict(X_test)\n",
        "accuracy_svm = accuracy_score(y_test, y_pred_svm)\n",
        "print(\"Accuracy of SVM Classifier:\", accuracy_svm)\n",
        "print(classification_report(y_test, y_pred_svm))\n",
        "\n",
        "y_pred_rf = best_model_rf.predict(X_test)\n",
        "accuracy_rf = accuracy_score(y_test, y_pred_rf)\n",
        "print(\"Accuracy of Random Forest Classifier:\", accuracy_rf)\n",
        "print(classification_report(y_test, y_pred_rf))\n"
      ],
      "metadata": {
        "id": "VaRF9_RpfaUS"
      },
      "execution_count": null,
      "outputs": []
    },
    {
      "cell_type": "code",
      "source": [
        "# Get input from user and predict emotion\n",
        "user_input = input(\"Enter a text: \").lower()\n",
        "predicted_emotion_svm = best_model_svm.predict([user_input])\n",
        "predicted_emotion_rf = best_model_rf.predict([user_input])\n",
        "\n",
        "print(\"Predicted Emotion (SVM):\", predicted_emotion_svm[0])\n",
        "print(\"Predicted Emotion (Random Forest):\", predicted_emotion_rf[0])\n"
      ],
      "metadata": {
        "id": "qBcEEkLqfehF"
      },
      "execution_count": null,
      "outputs": []
    },
    {
      "cell_type": "markdown",
      "source": [
        "afgagdgdagagea\n"
      ],
      "metadata": {
        "id": "rm4hRFo9kE4h"
      }
    }
  ]
}